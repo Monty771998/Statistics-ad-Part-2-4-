{
 "cells": [
  {
   "cell_type": "markdown",
   "id": "f11217dc-9517-406a-8fb8-bc65bf94fe94",
   "metadata": {},
   "source": [
    "Q1. Write a Python function that takes in two arrays of data and calculates the F-value for a variance ratio\n",
    "test. The function should return the F-value and the corresponding p-value for the test."
   ]
  },
  {
   "cell_type": "code",
   "execution_count": 1,
   "id": "2260342b-aa53-47fd-a4e3-6047e1c30d0e",
   "metadata": {},
   "outputs": [
    {
     "name": "stdout",
     "output_type": "stream",
     "text": [
      "F-value: 2.2093023255813953\n",
      "p-value: 0.1680129241056975\n"
     ]
    }
   ],
   "source": [
    "import numpy as np\n",
    "import scipy.stats as stats\n",
    "\n",
    "def variance_ratio_test(data1, data2):\n",
    "    \"\"\"\n",
    "    Perform a variance ratio test (F-test) on two arrays of data.\n",
    "\n",
    "    Parameters:\n",
    "        data1 (array-like): The first array of data.\n",
    "        data2 (array-like): The second array of data.\n",
    "\n",
    "    Returns:\n",
    "        f_value (float): The F-value from the variance ratio test.\n",
    "        p_value (float): The p-value associated with the F-value.\n",
    "    \"\"\"\n",
    "    # Convert the input data to numpy arrays\n",
    "    data1 = np.array(data1)\n",
    "    data2 = np.array(data2)\n",
    "\n",
    "    # Perform the variance ratio test (F-test)\n",
    "    f_value, p_value = stats.f_oneway(data1, data2)\n",
    "\n",
    "    return f_value, p_value\n",
    "\n",
    "# Example usage:\n",
    "data1 = [33, 29, 34, 39, 26, 30]\n",
    "data2 = [31, 32, 25, 28, 29, 27]\n",
    "f_value, p_value = variance_ratio_test(data1, data2)\n",
    "print(\"F-value:\", f_value)\n",
    "print(\"p-value:\", p_value)"
   ]
  },
  {
   "cell_type": "code",
   "execution_count": null,
   "id": "8b6c829d-be0a-49fc-ada4-19542c4072c8",
   "metadata": {},
   "outputs": [],
   "source": []
  },
  {
   "cell_type": "markdown",
   "id": "46ee8051-ef7e-4209-993c-5a8d9867a131",
   "metadata": {},
   "source": [
    "Q2. Given a significance level of 0.05 and the degrees of freedom for the numerator and denominator of an\n",
    "F-distribution, write a Python function that returns the critical F-value for a two-tailed test."
   ]
  },
  {
   "cell_type": "code",
   "execution_count": 2,
   "id": "fc8e2e6e-07a8-4aa4-a33d-43e6b42a80fb",
   "metadata": {},
   "outputs": [
    {
     "name": "stdout",
     "output_type": "stream",
     "text": [
      "Critical F-value: 3.8586986662732143\n"
     ]
    }
   ],
   "source": [
    "import scipy.stats as stats\n",
    "\n",
    "def critical_f_value(alpha, df_num, df_den):\n",
    "    \"\"\"\n",
    "    Calculate the critical F-value for a two-tailed test.\n",
    "\n",
    "    Parameters:\n",
    "        alpha (float): The significance level.\n",
    "        df_num (int): Degrees of freedom for the numerator.\n",
    "        df_den (int): Degrees of freedom for the denominator.\n",
    "\n",
    "    Returns:\n",
    "        critical_f (float): The critical F-value for the two-tailed test.\n",
    "    \"\"\"\n",
    "    # Calculate the critical F-value using the percent point function (ppf)\n",
    "    critical_f = stats.f.ppf(1 - alpha / 2, df_num, df_den)\n",
    "\n",
    "    return critical_f\n",
    "\n",
    "# Example usage:\n",
    "alpha = 0.05\n",
    "df_num = 3 #assumption made because data is not given\n",
    "df_den = 20 #assumption made because data is not given\n",
    "critical_f = critical_f_value(alpha, df_num, df_den)\n",
    "print(\"Critical F-value:\", critical_f)"
   ]
  },
  {
   "cell_type": "code",
   "execution_count": null,
   "id": "dc79c932-ca78-4ad9-95fc-978ec32a4b74",
   "metadata": {},
   "outputs": [],
   "source": []
  },
  {
   "cell_type": "markdown",
   "id": "ee7bd7cb-6181-4b21-a6cd-fa52faf369b1",
   "metadata": {},
   "source": [
    "Q3. Write a Python program that generates random samples from two normal distributions with known\n",
    "\n",
    "variances and uses an F-test to determine if the variances are equal. The program should output the F-\n",
    "value, degrees of freedom, and p-value for the test."
   ]
  },
  {
   "cell_type": "code",
   "execution_count": 3,
   "id": "360d13cb-5853-48c8-afe3-b8a0475a8573",
   "metadata": {},
   "outputs": [
    {
     "name": "stdout",
     "output_type": "stream",
     "text": [
      "F-value: 1.6970772575178206\n",
      "Degrees of freedom (numerator): 29\n",
      "Degrees of freedom (denominator): 24\n",
      "p-value: 0.1895806756708617\n"
     ]
    }
   ],
   "source": [
    "import numpy as np\n",
    "import scipy.stats as stats\n",
    "\n",
    "def f_test_variances(var1, var2, n1, n2):\n",
    "\n",
    "  # Generate random samples from the two normal distributions\n",
    "  sample1 = np.random.normal(loc=0, scale=np.sqrt(var1), size=n1)\n",
    "  sample2 = np.random.normal(loc=0, scale=np.sqrt(var2), size=n2)\n",
    "\n",
    "  # Calculate the F-statistic\n",
    "  f_value = np.var(sample1, ddof=1) / np.var(sample2, ddof=1)\n",
    "\n",
    "  # Calculate degrees of freedom\n",
    "  df1 = n1 - 1\n",
    "  df2 = n2 - 1\n",
    "\n",
    "  # Calculate p-value\n",
    "  p_value = stats.f.sf(f_value, df1, df2) * 2  # Two-sided test\n",
    "\n",
    "  return f_value, df1, df2, p_value\n",
    "\n",
    "# Example usage:\n",
    "var1 = 16  # Variance of population 1\n",
    "var2 = 9   # Variance of population 2\n",
    "n1 = 30   # Sample size of population 1\n",
    "n2 = 25   # Sample size of population 2\n",
    "\n",
    "f_value, df1, df2, p_value = f_test_variances(var1, var2, n1, n2)\n",
    "print(\"F-value:\", f_value)\n",
    "print(\"Degrees of freedom (numerator):\", df1)\n",
    "print(\"Degrees of freedom (denominator):\", df2)\n",
    "print(\"p-value:\", p_value)\n"
   ]
  },
  {
   "cell_type": "code",
   "execution_count": null,
   "id": "1ac57533-1f06-4204-940a-94b15016a8c2",
   "metadata": {},
   "outputs": [],
   "source": []
  },
  {
   "cell_type": "code",
   "execution_count": null,
   "id": "9f4b94e2-6d79-49f3-9899-3b5dda8c05cf",
   "metadata": {},
   "outputs": [],
   "source": [
    "Q4.The variances of two populations are known to be 10 and 15. A sample of 12 observations is taken from\n",
    "each population. Conduct an F-test at the 5% significance level to determine if the variances are\n",
    "significantly different."
   ]
  },
  {
   "cell_type": "code",
   "execution_count": 4,
   "id": "d5b4432b-f345-409f-b95f-91effeab0d1c",
   "metadata": {},
   "outputs": [
    {
     "name": "stdout",
     "output_type": "stream",
     "text": [
      "f-value : 2.8179304699530863\n",
      "The variances of the two populations are not significantly different.\n"
     ]
    }
   ],
   "source": [
    "import scipy.stats as stats\n",
    "\n",
    "# Given data\n",
    "known_variance_1 = 10\n",
    "known_variance_2 = 15\n",
    "sample_size = 12\n",
    "alpha = 0.05\n",
    "\n",
    "# Calculate the F-statistic\n",
    "f_statistic = known_variance_1 / known_variance_2\n",
    "\n",
    "# Degrees of freedom\n",
    "df1 = sample_size - 1\n",
    "df2 = sample_size - 1\n",
    "\n",
    "# Calculate the critical F-value at the 5% significance level\n",
    "critical_f_value = stats.f.ppf(1 - alpha, df1, df2)\n",
    "\n",
    "print(\"f-value :\",critical_f_value)\n",
    "\n",
    "# Perform the F-test and check if variances are significantly different\n",
    "if f_statistic > critical_f_value or f_statistic < (1 / critical_f_value):\n",
    "    print(\"The variances of the two populations are significantly different.\")\n",
    "else:\n",
    "    print(\"The variances of the two populations are not significantly different.\")"
   ]
  },
  {
   "cell_type": "code",
   "execution_count": null,
   "id": "08cfe9b0-5e92-4b0c-87b4-792b8f06e9e6",
   "metadata": {},
   "outputs": [],
   "source": []
  },
  {
   "cell_type": "markdown",
   "id": "b8294561-bee9-4651-afed-e7d808a9bd20",
   "metadata": {},
   "source": [
    "Q5. A manufacturer claims that the variance of the diameter of a certain product is 0.005. A sample of 25\n",
    "products is taken, and the sample variance is found to be 0.006. Conduct an F-test at the 1% significance\n",
    "level to determine if the claim is justified."
   ]
  },
  {
   "cell_type": "code",
   "execution_count": 8,
   "id": "30ef92d5-166d-448a-9bf4-6918c5f50e74",
   "metadata": {},
   "outputs": [
    {
     "name": "stdout",
     "output_type": "stream",
     "text": [
      "F-value: 1.2\n",
      "Degrees of freedom: 24\n",
      "p-value: 0.6587309365634489\n"
     ]
    }
   ],
   "source": [
    "import numpy as np\n",
    "import scipy.stats as stats\n",
    "\n",
    "def f_test_variance(sample_var, population_var, sample_size, alpha):\n",
    "\n",
    "  # Calculate F-statistic\n",
    "  f_value = sample_var / population_var\n",
    "\n",
    "  # Calculate degrees of freedom\n",
    "  df1 = sample_size - 1\n",
    "\n",
    "  # Calculate p-value\n",
    "  p_value = stats.f.sf(f_value, df1, df1) * 2  # Two-sided test\n",
    "\n",
    "  return f_value, df1, p_value\n",
    "\n",
    "# Sample data\n",
    "sample_var = 0.006\n",
    "population_var = 0.005\n",
    "sample_size = 25\n",
    "alpha = 0.01\n",
    "\n",
    "f_value, df1, p_value = f_test_variance(sample_var, population_var, sample_size, alpha)\n",
    "print(\"F-value:\", f_value)\n",
    "print(\"Degrees of freedom:\", df1)\n",
    "print(\"p-value:\", p_value)\n"
   ]
  },
  {
   "cell_type": "code",
   "execution_count": null,
   "id": "8c861160-ff4f-4d78-9901-ada304e6a2a6",
   "metadata": {},
   "outputs": [],
   "source": []
  },
  {
   "cell_type": "markdown",
   "id": "660458c8-4f5d-4866-9d31-b96c455dacac",
   "metadata": {},
   "source": [
    "Q6. Write a Python function that takes in the degrees of freedom for the numerator and denominator of an\n",
    "F-distribution and calculates the mean and variance of the distribution. The function should return the\n",
    "mean and variance as a tuple."
   ]
  },
  {
   "cell_type": "code",
   "execution_count": 9,
   "id": "5f6713c9-94fd-4050-83e7-c447c6dcc30c",
   "metadata": {},
   "outputs": [
    {
     "name": "stdout",
     "output_type": "stream",
     "text": [
      "Mean: 1.1538461538461537\n",
      "Variance: 0.8714362560516407\n"
     ]
    }
   ],
   "source": [
    "def f_distribution_mean_variance(df_num, df_den):\n",
    "   \n",
    "    # Calculate the mean and variance of the F-distribution\n",
    "    mean = df_den / (df_den - 2)\n",
    "    variance = (2 * df_den**2 * (df_num + df_den - 2)) / (df_num * (df_den - 2)**2 * (df_den - 4))\n",
    "\n",
    "    return mean, variance\n",
    "\n",
    "# Example usage:\n",
    "df_num = 5\n",
    "df_den = 15\n",
    "mean, variance = f_distribution_mean_variance(df_num, df_den)\n",
    "print(\"Mean:\", mean)\n",
    "print(\"Variance:\", variance)"
   ]
  },
  {
   "cell_type": "code",
   "execution_count": null,
   "id": "f7303267-5c12-427d-9ffd-02826b69a2b8",
   "metadata": {},
   "outputs": [],
   "source": []
  },
  {
   "cell_type": "markdown",
   "id": "7b1be4c5-9cec-4820-ba8d-b2012f0e4f82",
   "metadata": {},
   "source": [
    "Q7. A random sample of 10 measurements is taken from a normal population with unknown variance. The\n",
    "sample variance is found to be 25. Another random sample of 15 measurements is taken from another\n",
    "normal population with unknown variance, and the sample variance is found to be 20. Conduct an F-test\n",
    "at the 10% significance level to determine if the variances are significantly different."
   ]
  },
  {
   "cell_type": "code",
   "execution_count": 10,
   "id": "f1ea4bcc-beb8-4145-bbc6-9a10f6fb8239",
   "metadata": {},
   "outputs": [
    {
     "name": "stdout",
     "output_type": "stream",
     "text": [
      "f-stat :  1.25\n",
      "f_critical :  2.1638195794408634\n",
      "The variances of the two populations are not significantly different at the 10% significance level\n"
     ]
    }
   ],
   "source": [
    "n1 = 10\n",
    "n2 = 15\n",
    "df1 = n1-1\n",
    "df2= n2-2\n",
    "sample_variance_1 = 25\n",
    "sample_variance_2 = 20\n",
    "alpha =0.10\n",
    "\n",
    "#fstatistic\n",
    "f_stat = sample_variance_1/sample_variance_2\n",
    "\n",
    "#critical f value\n",
    "f_critical = stats.f.ppf(1-alpha , df1,df2)\n",
    "\n",
    "print(\"f-stat : \" , f_stat)\n",
    "print(\"f_critical : \" , f_critical)\n",
    "\n",
    "if f_stat > f_critical or f_stat < (1 / f_critical):\n",
    "    print(\"The variances of the two populations are significantly different at the 10% significance level\")\n",
    "    \n",
    "else:\n",
    "    print(\"The variances of the two populations are not significantly different at the 10% significance level\")"
   ]
  },
  {
   "cell_type": "code",
   "execution_count": null,
   "id": "a5dec218-21be-4bf4-8eeb-528302a67124",
   "metadata": {},
   "outputs": [],
   "source": []
  },
  {
   "cell_type": "markdown",
   "id": "ff2623f0-ce8f-4c00-8db3-823069909451",
   "metadata": {},
   "source": [
    "Q8. The following data represent the waiting times in minutes at two different restaurants on a Saturday\n",
    "night: Restaurant A: 24, 25, 28, 23, 22, 20, 27; Restaurant B: 31, 33, 35, 30, 32, 36. Conduct an F-test at the 5%\n",
    "significance level to determine if the variances are significantly different."
   ]
  },
  {
   "cell_type": "code",
   "execution_count": 11,
   "id": "8d3f6adb-5f95-48f4-b88e-3816ded42ef7",
   "metadata": {},
   "outputs": [
    {
     "name": "stdout",
     "output_type": "stream",
     "text": [
      "F-value: 1.4551907719609583\n",
      "Degrees of freedom (numerator): 6\n",
      "Degrees of freedom (denominator): 5\n",
      "p-value: 0.6974815747937483\n"
     ]
    }
   ],
   "source": [
    "import scipy.stats as stats\n",
    "import numpy as np\n",
    "\n",
    "def f_test_variances(sample1, sample2, alpha=0.05):\n",
    "\n",
    "  var1 = np.var(sample1, ddof=1)\n",
    "  var2 = np.var(sample2, ddof=1)\n",
    "  n1 = len(sample1)\n",
    "  n2 = len(sample2)\n",
    "\n",
    "  f_value = var1 / var2\n",
    "  df1 = n1 - 1\n",
    "  df2 = n2 - 1\n",
    "  p_value = stats.f.sf(f_value, df1, df2) * 2  # Two-sided test\n",
    "\n",
    "  return f_value, df1, df2, p_value\n",
    "\n",
    "# Data\n",
    "restaurant_a = [24, 25, 28, 23, 22, 20, 27]\n",
    "restaurant_b = [31, 33, 35, 30, 32, 36]\n",
    "\n",
    "# Perform F-test\n",
    "f_value, df1, df2, p_value = f_test_variances(restaurant_a, restaurant_b)\n",
    "\n",
    "print(\"F-value:\", f_value)\n",
    "print(\"Degrees of freedom (numerator):\", df1)\n",
    "print(\"Degrees of freedom (denominator):\", df2)\n",
    "print(\"p-value:\", p_value)\n"
   ]
  },
  {
   "cell_type": "code",
   "execution_count": null,
   "id": "7d37644d-3517-4a5a-bfd0-f9f2e05167b7",
   "metadata": {},
   "outputs": [],
   "source": []
  },
  {
   "cell_type": "markdown",
   "id": "0ea7fa16-a3ea-4818-b241-5d0ce61158a7",
   "metadata": {},
   "source": [
    "Q9. The following data represent the test scores of two groups of students: Group A: 80, 85, 90, 92, 87, 83;\n",
    "Group B: 75, 78, 82, 79, 81, 84. Conduct an F-test at the 1% significance level to determine if the variances\n",
    "are significantly different."
   ]
  },
  {
   "cell_type": "code",
   "execution_count": 12,
   "id": "8efa2037-2d2e-493c-b0aa-e1a4fbb11625",
   "metadata": {},
   "outputs": [
    {
     "name": "stdout",
     "output_type": "stream",
     "text": [
      "F-value: 1.9442622950819677\n",
      "Degrees of freedom (numerator): 5\n",
      "Degrees of freedom (denominator): 5\n",
      "p-value: 0.4831043549070688\n"
     ]
    }
   ],
   "source": [
    "import scipy.stats as stats\n",
    "import numpy as np\n",
    "\n",
    "def f_test_variances(sample1, sample2, alpha=0.01):\n",
    "\n",
    "  var1 = np.var(sample1, ddof=1)\n",
    "  var2 = np.var(sample2, ddof=1)\n",
    "  n1 = len(sample1)\n",
    "  n2 = len(sample2)\n",
    "\n",
    "  f_value = var1 / var2\n",
    "  df1 = n1 - 1\n",
    "  df2 = n2 - 1\n",
    "  p_value = stats.f.sf(f_value, df1, df2) * 2  # Two-sided test\n",
    "\n",
    "  return f_value, df1, df2, p_value\n",
    "\n",
    "# Data\n",
    "group_a = [80, 85, 90, 92, 87, 83]\n",
    "group_b = [75, 78, 82, 79, 81, 84]\n",
    "\n",
    "# Perform F-test\n",
    "f_value, df1, df2, p_value = f_test_variances(group_a, group_b, alpha=0.01)\n",
    "\n",
    "print(\"F-value:\", f_value)\n",
    "print(\"Degrees of freedom (numerator):\", df1)\n",
    "print(\"Degrees of freedom (denominator):\", df2)\n",
    "print(\"p-value:\", p_value)\n"
   ]
  },
  {
   "cell_type": "code",
   "execution_count": null,
   "id": "16f0409c-150d-4e62-8a65-b282ddc7a45e",
   "metadata": {},
   "outputs": [],
   "source": []
  },
  {
   "cell_type": "code",
   "execution_count": null,
   "id": "4f1ac4c2-58ef-4edc-914b-ebdb2461076b",
   "metadata": {},
   "outputs": [],
   "source": []
  },
  {
   "cell_type": "code",
   "execution_count": null,
   "id": "86b6799d-923c-4ee8-8974-4e7d6e69a05a",
   "metadata": {},
   "outputs": [],
   "source": []
  },
  {
   "cell_type": "code",
   "execution_count": null,
   "id": "bc2504e5-6348-46d9-96ed-0abf302c819c",
   "metadata": {},
   "outputs": [],
   "source": []
  },
  {
   "cell_type": "code",
   "execution_count": null,
   "id": "cdc3782c-ba6f-4c4b-93d2-166ce62ad69c",
   "metadata": {},
   "outputs": [],
   "source": []
  },
  {
   "cell_type": "code",
   "execution_count": null,
   "id": "369fdf32-d875-49d8-9f7f-7ef4857e8b29",
   "metadata": {},
   "outputs": [],
   "source": []
  },
  {
   "cell_type": "code",
   "execution_count": null,
   "id": "36de02c7-0e10-4047-9fd4-ca1f04b7b569",
   "metadata": {},
   "outputs": [],
   "source": []
  },
  {
   "cell_type": "code",
   "execution_count": null,
   "id": "43243fa3-f4ea-4e86-933c-7653b5023ead",
   "metadata": {},
   "outputs": [],
   "source": []
  },
  {
   "cell_type": "code",
   "execution_count": null,
   "id": "3b0afbe5-e69d-4493-b869-79e851a3e59a",
   "metadata": {},
   "outputs": [],
   "source": []
  },
  {
   "cell_type": "code",
   "execution_count": null,
   "id": "cea73f21-4d9d-49d5-b356-6c3285c16c2f",
   "metadata": {},
   "outputs": [],
   "source": []
  },
  {
   "cell_type": "code",
   "execution_count": null,
   "id": "5e02ec1b-e81e-4696-bb4a-874d75648a76",
   "metadata": {},
   "outputs": [],
   "source": []
  },
  {
   "cell_type": "code",
   "execution_count": null,
   "id": "08847247-710c-422c-a575-aa37b7d099e5",
   "metadata": {},
   "outputs": [],
   "source": []
  },
  {
   "cell_type": "code",
   "execution_count": null,
   "id": "c3d0ca00-587f-455a-a081-b476e47a72c0",
   "metadata": {},
   "outputs": [],
   "source": []
  },
  {
   "cell_type": "code",
   "execution_count": null,
   "id": "c04717f6-7d8b-4c52-9e1b-ec4219b68f0d",
   "metadata": {},
   "outputs": [],
   "source": []
  },
  {
   "cell_type": "code",
   "execution_count": null,
   "id": "91303e1a-6a15-4710-91e9-14f9030e5c6d",
   "metadata": {},
   "outputs": [],
   "source": []
  },
  {
   "cell_type": "code",
   "execution_count": null,
   "id": "cec65719-d8a8-4d99-bc6a-2f5de6d9edc8",
   "metadata": {},
   "outputs": [],
   "source": []
  },
  {
   "cell_type": "code",
   "execution_count": null,
   "id": "10c7e867-4617-440d-8042-f1455698217d",
   "metadata": {},
   "outputs": [],
   "source": []
  },
  {
   "cell_type": "code",
   "execution_count": null,
   "id": "68aa2370-c75b-4e71-97a9-0a9498f43e36",
   "metadata": {},
   "outputs": [],
   "source": []
  },
  {
   "cell_type": "code",
   "execution_count": null,
   "id": "b04c3b7c-851e-462c-8b18-fc1f45bc095a",
   "metadata": {},
   "outputs": [],
   "source": []
  },
  {
   "cell_type": "code",
   "execution_count": null,
   "id": "e476b07f-33c3-4365-9629-a465a221bf9f",
   "metadata": {},
   "outputs": [],
   "source": []
  },
  {
   "cell_type": "code",
   "execution_count": null,
   "id": "e021548c-b4c5-4c27-bfed-3df9684edc91",
   "metadata": {},
   "outputs": [],
   "source": []
  },
  {
   "cell_type": "code",
   "execution_count": null,
   "id": "f09300b1-e3b4-4c3d-9976-74bf4fa7e525",
   "metadata": {},
   "outputs": [],
   "source": []
  },
  {
   "cell_type": "code",
   "execution_count": null,
   "id": "1f21a208-ea69-45c6-b4c7-9fde6a996cb2",
   "metadata": {},
   "outputs": [],
   "source": []
  },
  {
   "cell_type": "code",
   "execution_count": null,
   "id": "4d90ff4a-14cb-4d60-97bd-8187279c5991",
   "metadata": {},
   "outputs": [],
   "source": []
  },
  {
   "cell_type": "code",
   "execution_count": null,
   "id": "493ab2fe-b1a1-41fc-a126-77f553d69203",
   "metadata": {},
   "outputs": [],
   "source": []
  },
  {
   "cell_type": "code",
   "execution_count": null,
   "id": "66b2a7d7-b03d-4653-b5d4-5f1b5436cae9",
   "metadata": {},
   "outputs": [],
   "source": []
  },
  {
   "cell_type": "code",
   "execution_count": null,
   "id": "db1189fc-c056-4bde-ac1c-7c4b2d9090dd",
   "metadata": {},
   "outputs": [],
   "source": []
  },
  {
   "cell_type": "code",
   "execution_count": null,
   "id": "bbe8e1ad-0001-4886-9c1c-efdd0ab1c719",
   "metadata": {},
   "outputs": [],
   "source": []
  },
  {
   "cell_type": "code",
   "execution_count": null,
   "id": "9ed3c08e-a7bc-4d4d-beba-42f5c47aaf2a",
   "metadata": {},
   "outputs": [],
   "source": []
  },
  {
   "cell_type": "code",
   "execution_count": null,
   "id": "4b8f57af-0393-479e-81ba-8d836c8ee670",
   "metadata": {},
   "outputs": [],
   "source": []
  },
  {
   "cell_type": "code",
   "execution_count": null,
   "id": "21ad37d3-b464-40bf-a1d4-0a216994ac62",
   "metadata": {},
   "outputs": [],
   "source": []
  },
  {
   "cell_type": "code",
   "execution_count": null,
   "id": "12f18004-028b-439f-a767-5d4abc9cac06",
   "metadata": {},
   "outputs": [],
   "source": []
  },
  {
   "cell_type": "code",
   "execution_count": null,
   "id": "182dacfe-9dab-4e36-9957-0486268cfb03",
   "metadata": {},
   "outputs": [],
   "source": []
  },
  {
   "cell_type": "code",
   "execution_count": null,
   "id": "44739024-b74e-41ad-9915-cffe53100e0b",
   "metadata": {},
   "outputs": [],
   "source": []
  },
  {
   "cell_type": "code",
   "execution_count": null,
   "id": "07fd468b-af03-4f36-96ec-fd396344a343",
   "metadata": {},
   "outputs": [],
   "source": []
  },
  {
   "cell_type": "code",
   "execution_count": null,
   "id": "1041d2b4-6bf3-447a-8bff-524f90378cfc",
   "metadata": {},
   "outputs": [],
   "source": []
  },
  {
   "cell_type": "code",
   "execution_count": null,
   "id": "fe57b1ab-f5e2-49bb-ad50-ac952912edf2",
   "metadata": {},
   "outputs": [],
   "source": []
  },
  {
   "cell_type": "code",
   "execution_count": null,
   "id": "e8bafb37-7c30-49cc-a7dd-1bbd51656477",
   "metadata": {},
   "outputs": [],
   "source": []
  },
  {
   "cell_type": "code",
   "execution_count": null,
   "id": "d7bdd16a-25fa-4e64-8a48-4b5a4868cb31",
   "metadata": {},
   "outputs": [],
   "source": []
  }
 ],
 "metadata": {
  "kernelspec": {
   "display_name": "Python 3 (ipykernel)",
   "language": "python",
   "name": "python3"
  },
  "language_info": {
   "codemirror_mode": {
    "name": "ipython",
    "version": 3
   },
   "file_extension": ".py",
   "mimetype": "text/x-python",
   "name": "python",
   "nbconvert_exporter": "python",
   "pygments_lexer": "ipython3",
   "version": "3.10.8"
  }
 },
 "nbformat": 4,
 "nbformat_minor": 5
}
